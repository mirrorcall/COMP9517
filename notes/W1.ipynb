{
 "cells": [
  {
   "cell_type": "markdown",
   "metadata": {},
   "source": [
    "# Week 1B Image Processing"
   ]
  },
  {
   "cell_type": "markdown",
   "metadata": {},
   "source": [
    "## Introduction - Image Analysis\n",
    "\n",
    "The key idea behind this includes some of aspects,\n",
    "* Manipulation of image data: extract the information necessary for solving an image problem\n",
    "* Preprocessing, Data Reduction and Feature Analysis\n",
    "    * Preprocessing removes noise and eliminates irrelevant analysis\n",
    "    * Data Reduction extracts features for the analysis process\n",
    "    * During feature analysis, the extracted features are examined and evaluated for their use in the application"
   ]
  },
  {
   "cell_type": "markdown",
   "metadata": {},
   "source": [
    "## Image Preprocessing\n",
    "\n",
    "Firstly, the input and output are intensity images that is saying intensity is calculated for each unit of the image. It aims to **improve image**, by *suppressing distortions and enhancing image features* so that the result is more suitable for a specific application.\n",
    "\n",
    "There are two types of image processing/transformation:\n",
    "* Spatial domain\n",
    "* Transform domain\n",
    "\n",
    "### Spatial Domain Techniques\n",
    "\n",
    "Two principal categories in spatial processing:\n",
    "* Intensity transformation (on **single** pixel)\n",
    "* Spatial filtering (on **pixel and its neighbors**)\n",
    "\n",
    "Given function for operating directly on image pixels:\n",
    "$$ g(x,y) = T[f(x,y)] $$\n",
    "where,\n",
    "* $f(x,y)$ is the input image\n",
    "* $g(x,y)$ is the processed image\n",
    "* $T$ is an operator on $f$, over a pixel at $(x,y)$, or a neighborhood of $(x,y)$\n",
    "\n",
    "When $T$ is of size $1 \\times 1$, $T$ becomes a gray-level transformation function: $s = T(r)$.\n",
    "where,\n",
    "* $s$ is the pixel of output image\n",
    "* $r$ is the pixel of input image\n",
    "\n",
    "> Some of the example applications are *contrast stretching and thresholding*\n",
    "\n",
    "![](img/2.png)\n",
    "\n",
    "![](img/3.png)"
   ]
  },
  {
   "cell_type": "markdown",
   "metadata": {},
   "source": [
    "## Basic Gray-level Transformations\n",
    "\n",
    "### Image thresholding\n",
    "\n",
    "**That is the simple method of image segmentation that converts a gray-scale image into a binary (black-and-white) image**.\n",
    "\n",
    "* Replace each pixel with a black pixel if $r<t$ and with a white pixel if $r>t$ (t is a fixed value selected as cut-off)\n",
    "* One of the simplest transformations which is used to segment the image into two binary classes of background and foreground\n",
    "* Advantage: useful for segmentation to simplify the representation of an image to something easier for analysis\n",
    "* Disadvantage: if histogram does not have bimodal distribution and it does not have a sharp valley, the determined threshold may not be very useful."
   ]
  },
  {
   "cell_type": "markdown",
   "metadata": {},
   "source": [
    "### Image thresholding algorithm - Otsu's method\n",
    "\n",
    "* Output is a binary image (two classes/variable)\n",
    "* The algorithm is going to exhaustively search for a threshold that minimizes intra-class variance, by\n",
    "$$ \\sigma_w^2 = w_0(t)\\sigma_0^2 + w_1(t)\\sigma_1^2\\\\[1ex]\n",
    "w_0(t) + w_1(t) = 1 $$\n",
    "* An equivalent way to maximizing inter-class variance, and is much faster, by\n",
    "$$ \\sigma_b^2 = \\sigma^2-\\sigma_w^2 = w_0(t)w_1(t)[\\mu_0(t)-\\mu_1(t)]^2 $$"
   ]
  },
  {
   "cell_type": "markdown",
   "metadata": {},
   "source": [
    "### Image thresholding algorithm - Balanced histogram thresholding\n",
    "\n",
    "It is automatic image thresholding algorithm, and its output is a binary image just as the same as `Otsu's method`. Whereas balanced histogram thresholding searches for a threshold that has equal weights on both sides of the histogram (this is equal to median point)"
   ]
  },
  {
   "cell_type": "markdown",
   "metadata": {},
   "source": [
    "### Multi-band thresholding\n",
    "\n",
    "Colorful images can also be thresholded. One simple approach is to designate a separate threshold for each for the R, G and B components of the image and then recombine them with an `AND` operation. This just reflects the way how the camera works and how the data is stored in the computer, but it does not correspond to the way that people recognize color."
   ]
  },
  {
   "cell_type": "markdown",
   "metadata": {},
   "source": [
    "## Image Negatives (inverse)\n",
    "\n",
    "It is also a linear transformation called *Negative transformation* defined by,\n",
    "$$ s = L - 1 - r $$\n",
    "for input image with gray levels in range [0, L-1], where,\n",
    "* $L$ is the the number of gray-scale level of the image (e.g., 8 bit image would have 2^8 many levels)\n",
    "\n",
    "The Image negative is useful for enhancing white or gray detail in dark regions of image, when black areas are dominant\n",
    "\n",
    "![](img/4.png)"
   ]
  },
  {
   "cell_type": "markdown",
   "metadata": {},
   "source": [
    "## Log Transformations\n",
    "\n",
    "Log transformation is defined by,\n",
    "$$ s = c\\ log(1 + r) $$\n",
    "where $c$ is constant, $r \\ge 0$\n",
    "\n",
    "It maps narrow range of low gray-level values into wider ranger of output values, also compresses dynamic ranger of images with large variations in pixel values.\n",
    "\n",
    "![](img/6.png)"
   ]
  },
  {
   "cell_type": "markdown",
   "metadata": {},
   "source": [
    "### Power-Law Transformations (imporve constrast)\n",
    "\n",
    "Power-Law transformation is defined by,\n",
    "$$ s = cr^{\\gamma} $$\n",
    "where, $c$ and $\\gamma$ are constant\n",
    "\n",
    "* Family of possible transformations by varying $\\gamma$\n",
    "* Useful in displaying an image accurately on a computer screen by pre-processing images appropriately before display\n",
    "* Also useful for general-purpose contrast manipulation\n",
    "\n",
    "![](img/7.png)"
   ]
  },
  {
   "cell_type": "markdown",
   "metadata": {},
   "source": [
    "### Summarize on some basic gray-level transformations\n",
    "\n",
    "![](img/5.png)"
   ]
  },
  {
   "cell_type": "markdown",
   "metadata": {},
   "source": [
    "## Piecewise-linear Transformations\n",
    "\n",
    "Here goes three types of such transformations:\n",
    "1. Contrast stretching\n",
    "2. Gray-level slicing / intensity-level slicing\n",
    "3. Bit-plane slicing"
   ]
  },
  {
   "cell_type": "markdown",
   "metadata": {},
   "source": [
    "### Contrast Stretching\n",
    "\n",
    "The main idea behind this is to increase the dynamic ranger of gray levels in image, which widely used in display devices or recording media to span the full intensity range.\n",
    "\n",
    "![](img/8.png)\n",
    "> comparison between contrast stretching and thresholding"
   ]
  },
  {
   "cell_type": "markdown",
   "metadata": {},
   "source": [
    "### Gray-level Slicing\n",
    "\n",
    "* Highlighting of specific ranger of gray levels\n",
    "    * Display high value for all gray levels in ranger of interest, and low value for all others produces binary image\n",
    "    * Brighten the desired ranger of gray levels, while preserving background and other gray-scale tones of image\n",
    "    \n",
    "![](img/9.png)"
   ]
  },
  {
   "cell_type": "markdown",
   "metadata": {},
   "source": [
    "### Bit-plane Slicing\n",
    "\n",
    "A **bit plane** of a digital discrete signal is a set of bits corresponding to given bit position in each of the binary number s representing the signal.\n",
    "\n",
    "* Highlights contribution made to total image appearance by specific bits\n",
    "* The higher the number of the bit plane, the less is its contribution to the final stage\n",
    "* Useful in compression and feature extraction\n",
    "\n",
    "![](img/10.png)"
   ]
  },
  {
   "cell_type": "markdown",
   "metadata": {},
   "source": [
    "## Histogram Processing\n",
    "\n",
    "### Histogram Equalization\n",
    "\n",
    "Aim: To get an image with equally distributed brightness levels over the whole brightness scale.\n",
    "Results: Enhances contrast for brightness values near histogram maximum, decreases contrast near minimum\n",
    "\n",
    "$ H(r) = n $, where $r$ is the gray level, $n$ is the number of pixels of that gray level\n",
    "\n",
    "Let $r$ represents gray levels of the image and then be normalized in [0, L-1], where\n",
    "* $r = 0$ represents black\n",
    "* $r = L-1$ represents white\n",
    "\n",
    "Consider transformations of the form:\n",
    "$$ s = T(r),\\ 0 \\le r \\le L-1 $$\n",
    "\n",
    "Also assume that $T(r)$ satisfies:\n",
    "\n",
    "* $T(r)$ is single-valued and monotonically increasing in $0 \\le r \\le L-1$ meaning that the inverse transformation exists and monotonicity preserves pixel order\n",
    "* $0 \\le T(r) \\le L-1$ for $0 \\le r \\le L-1$ meaning that output gray levels will be in the same range as input levels\n",
    "\n",
    "For discrete values, we get probabilities and summations instead of PDFs and integrals:\n",
    "$$ p_r(r_k) = n_k / MN,\\ k = 0, 1, ..., L-1 $$\n",
    "where,\n",
    "* $MN$ is total number of pixels in image\n",
    "* $n_k$ is the number of pixels with gray level $r_k$\n",
    "* $L$ is total number of gray levels\n",
    "\n",
    "So, we have\n",
    "$$ s_k = T(r_k) = (L-1)\\sum_{j=0}^k p_r(r_j) = \\frac{L-1}{MN}\\sum_{j=0}^kn_j $$\n",
    "\n",
    "### Histogram Matching\n",
    "\n",
    "Aim: To get an image with a specified histogram (brightness distribution)"
   ]
  },
  {
   "cell_type": "code",
   "execution_count": null,
   "metadata": {},
   "outputs": [],
   "source": []
  }
 ],
 "metadata": {
  "kernelspec": {
   "display_name": "Python 3",
   "language": "python",
   "name": "python3"
  },
  "language_info": {
   "codemirror_mode": {
    "name": "ipython",
    "version": 3
   },
   "file_extension": ".py",
   "mimetype": "text/x-python",
   "name": "python",
   "nbconvert_exporter": "python",
   "pygments_lexer": "ipython3",
   "version": "3.7.3"
  }
 },
 "nbformat": 4,
 "nbformat_minor": 2
}
